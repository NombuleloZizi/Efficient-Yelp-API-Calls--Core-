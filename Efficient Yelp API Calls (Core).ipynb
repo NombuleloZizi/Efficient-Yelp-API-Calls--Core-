{
 "cells": [
  {
   "cell_type": "code",
   "execution_count": 12,
   "id": "41344e45-9ee9-49da-9c62-9c561dd63a71",
   "metadata": {},
   "outputs": [],
   "source": [
    "# Standard Imports\n",
    "import numpy as np\n",
    "import pandas as pd\n",
    "import matplotlib.pyplot as plt\n",
    "import seaborn as sns\n",
    "# Additional Imports\n",
    "import os, json, math, time\n",
    "from yelpapi import YelpAPI\n",
    "from tqdm.notebook import tqdm_notebook\n",
    "\n"
   ]
  },
  {
   "cell_type": "code",
   "execution_count": 13,
   "id": "5c5a2e44-063c-4559-a74e-f4044dde505e",
   "metadata": {},
   "outputs": [
    {
     "data": {
      "text/plain": [
       "dict_keys(['client-id', 'api-key'])"
      ]
     },
     "execution_count": 13,
     "metadata": {},
     "output_type": "execute_result"
    }
   ],
   "source": [
    "import json\n",
    "with open('/Users/NZizi/.secret/yelp_api.json') as f: #change the path to match YOUR path!!\n",
    "    login = json.load(f)\n",
    "login.keys()"
   ]
  },
  {
   "cell_type": "code",
   "execution_count": 14,
   "id": "b9baa035-0bb4-472e-8ad3-72c6af0fb0e3",
   "metadata": {},
   "outputs": [
    {
     "data": {
      "text/plain": [
       "<yelpapi.yelpapi.YelpAPI at 0x1bc31ebf820>"
      ]
     },
     "execution_count": 14,
     "metadata": {},
     "output_type": "execute_result"
    }
   ],
   "source": [
    "# import the YelpAPI Class\n",
    "from yelpapi import YelpAPI\n",
    "# Create an instance with your key\n",
    "yelp_api = YelpAPI(login['api-key'], timeout_s=5.0)\n",
    "yelp_api\n"
   ]
  },
  {
   "cell_type": "code",
   "execution_count": 15,
   "id": "541e9bb2-91af-47f3-9ce1-75e34b46d2bb",
   "metadata": {},
   "outputs": [],
   "source": [
    "# set our API call parameters \n",
    "LOCATION = 'Greenville, SC'\n",
    "TERM = 'Sushi'\n"
   ]
  },
  {
   "cell_type": "code",
   "execution_count": 16,
   "id": "1195061e-1798-4dcf-b84b-099b698fc3cb",
   "metadata": {},
   "outputs": [
    {
     "data": {
      "text/plain": [
       "'Data/results_in_progress_Greenville_SC_sushi.json'"
      ]
     },
     "execution_count": 16,
     "metadata": {},
     "output_type": "execute_result"
    }
   ],
   "source": [
    "# Specifying JSON_FILE filename (can include a folder)\n",
    "# include the search terms in the filename\n",
    "JSON_FILE = \"Data/results_in_progress_Greenville_SC_sushi.json\"\n",
    "JSON_FILE\n",
    "\n"
   ]
  },
  {
   "cell_type": "code",
   "execution_count": 17,
   "id": "5f0a76f4-b4f9-4ccd-b548-66fd763c42a2",
   "metadata": {},
   "outputs": [
    {
     "name": "stdout",
     "output_type": "stream",
     "text": [
      "[i] Data/results_in_progress_Greenville_SC_sushi.json not found. Saving empty list to file.\n"
     ]
    }
   ],
   "source": [
    "## Check if JSON_FILE exists\n",
    "file_exists = os.path.isfile(JSON_FILE)\n",
    "## If it does not exist: \n",
    "if file_exists == False:\n",
    "    \n",
    "    ## CREATE ANY NEEDED FOLDERS\n",
    "    # Get the Folder Name only\n",
    "    folder = os.path.dirname(JSON_FILE)\n",
    "    ## If JSON_FILE included a folder:\n",
    "    if len(folder)>0:\n",
    "        # create the folder\n",
    "        os.makedirs(folder,exist_ok=True)\n",
    "        \n",
    "        \n",
    "    ## INFORM USER AND SAVE EMPTY LIST\n",
    "    print(f'[i] {JSON_FILE} not found. Saving empty list to file.')\n",
    "    \n",
    "    \n",
    "    # save an empty list\n",
    "    with open(JSON_FILE,'w') as f:\n",
    "        json.dump([],f)  \n",
    "# If it exists, inform user\n",
    "else:\n",
    "    print(f\"[i] {JSON_FILE} already exists.\")\n"
   ]
  },
  {
   "cell_type": "code",
   "execution_count": 18,
   "id": "12246098-24f7-4731-bbd7-63c741d1d875",
   "metadata": {},
   "outputs": [
    {
     "name": "stdout",
     "output_type": "stream",
     "text": [
      "- 0 previous results found.\n"
     ]
    }
   ],
   "source": [
    "## Load previous results and use len of results for offset\n",
    "with open(JSON_FILE,'r') as f:\n",
    "    previous_results = json.load(f)\n",
    "    \n",
    "## set offset based on previous results\n",
    "n_results = len(previous_results)\n",
    "print(f'- {n_results} previous results found.')\n",
    "\n"
   ]
  },
  {
   "cell_type": "code",
   "execution_count": 19,
   "id": "87b2f0be-4cca-475c-951d-5abca62d7ff4",
   "metadata": {},
   "outputs": [
    {
     "data": {
      "text/plain": [
       "dict_keys(['businesses', 'total', 'region'])"
      ]
     },
     "execution_count": 19,
     "metadata": {},
     "output_type": "execute_result"
    }
   ],
   "source": [
    "# use our yelp_api variable's search_query method to perform our API call\n",
    "results = yelp_api.search_query(location=LOCATION,\n",
    "                                term=TERM,\n",
    "                               offset=n_results)\n",
    "results.keys()\n",
    "\n"
   ]
  },
  {
   "cell_type": "code",
   "execution_count": 20,
   "id": "5ae3e406-6d02-4aad-b516-69b6009b6cc2",
   "metadata": {},
   "outputs": [
    {
     "data": {
      "text/plain": [
       "108"
      ]
     },
     "execution_count": 20,
     "metadata": {},
     "output_type": "execute_result"
    }
   ],
   "source": [
    "## How many results total?\n",
    "total_results = results['total']\n",
    "total_results\n",
    "\n"
   ]
  },
  {
   "cell_type": "code",
   "execution_count": 21,
   "id": "bb4bb125-a382-48e9-a117-543f5366f15b",
   "metadata": {},
   "outputs": [
    {
     "data": {
      "text/plain": [
       "20"
      ]
     },
     "execution_count": 21,
     "metadata": {},
     "output_type": "execute_result"
    }
   ],
   "source": [
    "## How many did we get the details for?\n",
    "results_per_page = len(results['businesses'])\n",
    "results_per_page\n",
    "\n"
   ]
  },
  {
   "cell_type": "code",
   "execution_count": 22,
   "id": "f910cb8c-6970-43aa-a703-bc421c927413",
   "metadata": {},
   "outputs": [
    {
     "data": {
      "text/plain": [
       "6"
      ]
     },
     "execution_count": 22,
     "metadata": {},
     "output_type": "execute_result"
    }
   ],
   "source": [
    "# Import additional packages for controlling our loop\n",
    "import time, math\n",
    "# Use math.ceil to round up for the total number of pages of results.\n",
    "n_pages = math.ceil((results['total']-n_results)/ results_per_page)\n",
    "n_pages\n",
    "\n"
   ]
  },
  {
   "cell_type": "code",
   "execution_count": 23,
   "id": "96553c60-b5e1-4b0c-97e0-c5b357ba4ec7",
   "metadata": {},
   "outputs": [],
   "source": [
    "# join new results with old list with extend and save to file\n",
    "previous_results.extend(results['businesses'])  \n",
    "with open(JSON_FILE,'w') as f:\n",
    "     json.dump(previous_results,f)\n"
   ]
  },
  {
   "cell_type": "code",
   "execution_count": 24,
   "id": "0f2e1dcf-fdd0-435f-ba13-86bee984a83a",
   "metadata": {},
   "outputs": [
    {
     "data": {
      "application/vnd.jupyter.widget-view+json": {
       "model_id": "a0d046be3994434bb96e275929ca476a",
       "version_major": 2,
       "version_minor": 0
      },
      "text/plain": [
       "  0%|          | 0/6 [00:00<?, ?it/s]"
      ]
     },
     "metadata": {},
     "output_type": "display_data"
    }
   ],
   "source": [
    "from tqdm.notebook import tqdm_notebook\n",
    "import time\n",
    "for i in tqdm_notebook(range(n_pages)):\n",
    "    # adds 200 ms pause\n",
    "    time.sleep(.2) \n"
   ]
  },
  {
   "cell_type": "code",
   "execution_count": 25,
   "id": "dde6f2c1-cd61-4688-8132-0aef3b68e204",
   "metadata": {},
   "outputs": [],
   "source": [
    "def create_json_file(JSON_FILE,  delete_if_exists=False):\n",
    "    \n",
    "    ## Check if JSON_FILE exists\n",
    "    file_exists = os.path.isfile(JSON_FILE)\n",
    "\n",
    "  ## If it DOES exist:\n",
    "    if file_exists == True:\n",
    "        if delete_if_exists==True:\n",
    "            print(f\"[!] {JSON_FILE} already exists. Deleting previous file...\")\n",
    "            ## delete file and confirm it no longer exits.\n",
    "            os.remove(JSON_FILE)\n",
    "            ## Recursive call to function after old file deleted\n",
    "            create_json_file(JSON_FILE,delete_if_exists=False)\n",
    "        else:\n",
    "            print(f\"[i] {JSON_FILE} already exists.\")\n",
    "    else:\n",
    "        print(f\"[i] {JSON_FILE} not found. Saving empty list to new file.\")\n",
    "        ## CREATE ANY NEEDED FOLDERS\n",
    "        # Get the Folder Name only\n",
    "        folder = os.path.dirname(JSON_FILE)\n",
    "        if len(folder)>0:\n",
    "            os.makedirs(folder,exist_ok=True)\n",
    "\n",
    "        with open(JSON_FILE,'w') as f:\n",
    "            json.dump([],f)\n",
    "                  \n",
    "            \n",
    "    \n",
    "\n"
   ]
  },
  {
   "cell_type": "code",
   "execution_count": 26,
   "id": "650af937-286a-4ea6-8786-9aa06771808b",
   "metadata": {},
   "outputs": [
    {
     "name": "stdout",
     "output_type": "stream",
     "text": [
      "[!] Data/results_in_progress_Greenville_SC_sushi.json already exists. Deleting previous file...\n",
      "[i] Data/results_in_progress_Greenville_SC_sushi.json not found. Saving empty list to new file.\n",
      "- 0 previous results found.\n"
     ]
    },
    {
     "data": {
      "text/plain": [
       "6"
      ]
     },
     "execution_count": 26,
     "metadata": {},
     "output_type": "execute_result"
    }
   ],
   "source": [
    "## Create a new empty json file (exist the previous if it exists)\n",
    "create_json_file(JSON_FILE, delete_if_exists=True)\n",
    "## Load previous results and use len of results for offset\n",
    "with open(JSON_FILE,'r') as f:\n",
    "    previous_results = json.load(f)\n",
    "    \n",
    "## set offset based on previous results\n",
    "n_results = len(previous_results)\n",
    "print(f'- {n_results} previous results found.')\n",
    "# use our yelp_api variable's search_query method to perform our API call\n",
    "results = yelp_api.search_query(location=LOCATION,\n",
    "                                term=TERM,\n",
    "                               offset=n_results)\n",
    "## How many results total?\n",
    "total_results = results['total']\n",
    "## How many did we get the details for?\n",
    "results_per_page = len(results['businesses'])\n",
    "# Use math.ceil to round up for the total number of pages of results.\n",
    "n_pages = math.ceil((results['total']-n_results)/ results_per_page)\n",
    "n_pages\n",
    "\n"
   ]
  },
  {
   "cell_type": "code",
   "execution_count": 27,
   "id": "f2b20270-72c8-42f1-8627-67e74fc42690",
   "metadata": {},
   "outputs": [
    {
     "data": {
      "application/vnd.jupyter.widget-view+json": {
       "model_id": "1101b2610ffa4b9c8a2e3d60d49560e4",
       "version_major": 2,
       "version_minor": 0
      },
      "text/plain": [
       "  0%|          | 0/6 [00:00<?, ?it/s]"
      ]
     },
     "metadata": {},
     "output_type": "display_data"
    }
   ],
   "source": [
    "for i in tqdm_notebook( range(1,n_pages+1)):\n",
    "    \n",
    "    ## Read in results in progress file and check the length\n",
    "    with open(JSON_FILE, 'r') as f:\n",
    "        previous_results = json.load(f)\n",
    "    ## save number of results for to use as offset\n",
    "    n_results = len(previous_results)\n",
    "    \n",
    "    if (n_results + results_per_page) > 1000:\n",
    "        print('Exceeded 1000 api calls. Stopping loop.')\n",
    "        break\n",
    "    \n",
    "    ## use n_results as the OFFSET \n",
    "    results = yelp_api.search_query(location=LOCATION,\n",
    "                                    term=TERM, \n",
    "                                    offset=n_results)\n",
    "    \n",
    "    \n",
    "    \n",
    "    ## append new results and save to file\n",
    "    previous_results.extend(results['businesses'])\n",
    "    \n",
    "    # display(previous_results)\n",
    "    with open(JSON_FILE,'w') as f:\n",
    "        json.dump(previous_results,f)\n",
    "    \n",
    "    time.sleep(.2)\n",
    "\n"
   ]
  },
  {
   "cell_type": "code",
   "execution_count": 28,
   "id": "4d5501b6-3a42-4930-b639-0df07cefaaaf",
   "metadata": {},
   "outputs": [
    {
     "data": {
      "text/html": [
       "<div>\n",
       "<style scoped>\n",
       "    .dataframe tbody tr th:only-of-type {\n",
       "        vertical-align: middle;\n",
       "    }\n",
       "\n",
       "    .dataframe tbody tr th {\n",
       "        vertical-align: top;\n",
       "    }\n",
       "\n",
       "    .dataframe thead th {\n",
       "        text-align: right;\n",
       "    }\n",
       "</style>\n",
       "<table border=\"1\" class=\"dataframe\">\n",
       "  <thead>\n",
       "    <tr style=\"text-align: right;\">\n",
       "      <th></th>\n",
       "      <th>id</th>\n",
       "      <th>alias</th>\n",
       "      <th>name</th>\n",
       "      <th>image_url</th>\n",
       "      <th>is_closed</th>\n",
       "      <th>url</th>\n",
       "      <th>review_count</th>\n",
       "      <th>categories</th>\n",
       "      <th>rating</th>\n",
       "      <th>coordinates</th>\n",
       "      <th>transactions</th>\n",
       "      <th>location</th>\n",
       "      <th>phone</th>\n",
       "      <th>display_phone</th>\n",
       "      <th>distance</th>\n",
       "      <th>price</th>\n",
       "    </tr>\n",
       "  </thead>\n",
       "  <tbody>\n",
       "    <tr>\n",
       "      <th>0</th>\n",
       "      <td>RGRk1ioORwm_FIX8PM732Q</td>\n",
       "      <td>konnichiwa-greenville</td>\n",
       "      <td>Konnichiwa</td>\n",
       "      <td>https://s3-media3.fl.yelpcdn.com/bphoto/p47H0_...</td>\n",
       "      <td>False</td>\n",
       "      <td>https://www.yelp.com/biz/konnichiwa-greenville...</td>\n",
       "      <td>62</td>\n",
       "      <td>[{'alias': 'sushi', 'title': 'Sushi Bars'}, {'...</td>\n",
       "      <td>4.0</td>\n",
       "      <td>{'latitude': 34.845952342825115, 'longitude': ...</td>\n",
       "      <td>[]</td>\n",
       "      <td>{'address1': '101 Falls Park Dr', 'address2': ...</td>\n",
       "      <td>+18642524436</td>\n",
       "      <td>(864) 252-4436</td>\n",
       "      <td>4184.255183</td>\n",
       "      <td>NaN</td>\n",
       "    </tr>\n",
       "    <tr>\n",
       "      <th>1</th>\n",
       "      <td>zG_XOAFi9Y560WJ1RvghBw</td>\n",
       "      <td>sushi-masa-japanese-restaurant-greenville</td>\n",
       "      <td>Sushi-Masa Japanese Restaurant</td>\n",
       "      <td>https://s3-media1.fl.yelpcdn.com/bphoto/zsRavZ...</td>\n",
       "      <td>False</td>\n",
       "      <td>https://www.yelp.com/biz/sushi-masa-japanese-r...</td>\n",
       "      <td>160</td>\n",
       "      <td>[{'alias': 'sushi', 'title': 'Sushi Bars'}]</td>\n",
       "      <td>4.5</td>\n",
       "      <td>{'latitude': 34.8512725830078, 'longitude': -8...</td>\n",
       "      <td>[delivery]</td>\n",
       "      <td>{'address1': '8590 Pelham Rd', 'address2': 'St...</td>\n",
       "      <td>+18642882227</td>\n",
       "      <td>(864) 288-2227</td>\n",
       "      <td>11481.830881</td>\n",
       "      <td>$$</td>\n",
       "    </tr>\n",
       "    <tr>\n",
       "      <th>2</th>\n",
       "      <td>babpQQHQSGjVxS1Li7Q2lA</td>\n",
       "      <td>otto-izakaya-downtown-greenville</td>\n",
       "      <td>Otto Izakaya - Downtown</td>\n",
       "      <td>https://s3-media2.fl.yelpcdn.com/bphoto/CQ7zdN...</td>\n",
       "      <td>False</td>\n",
       "      <td>https://www.yelp.com/biz/otto-izakaya-downtown...</td>\n",
       "      <td>180</td>\n",
       "      <td>[{'alias': 'izakaya', 'title': 'Izakaya'}, {'a...</td>\n",
       "      <td>3.5</td>\n",
       "      <td>{'latitude': 34.84428, 'longitude': -82.406}</td>\n",
       "      <td>[restaurant_reservation, delivery]</td>\n",
       "      <td>{'address1': '802 S Main St', 'address2': '', ...</td>\n",
       "      <td>+18645685880</td>\n",
       "      <td>(864) 568-5880</td>\n",
       "      <td>4427.139837</td>\n",
       "      <td>$$</td>\n",
       "    </tr>\n",
       "    <tr>\n",
       "      <th>3</th>\n",
       "      <td>7cJxOV-ANX1qLThK3yV96w</td>\n",
       "      <td>otto-izakaya-greenville-4</td>\n",
       "      <td>Otto Izakaya</td>\n",
       "      <td>https://s3-media1.fl.yelpcdn.com/bphoto/TdPhFy...</td>\n",
       "      <td>False</td>\n",
       "      <td>https://www.yelp.com/biz/otto-izakaya-greenvil...</td>\n",
       "      <td>441</td>\n",
       "      <td>[{'alias': 'japanese', 'title': 'Japanese'}, {...</td>\n",
       "      <td>4.0</td>\n",
       "      <td>{'latitude': 34.8228218820722, 'longitude': -8...</td>\n",
       "      <td>[delivery]</td>\n",
       "      <td>{'address1': '15 Market Point Dr', 'address2':...</td>\n",
       "      <td>+18645688009</td>\n",
       "      <td>(864) 568-8009</td>\n",
       "      <td>5933.485357</td>\n",
       "      <td>$$</td>\n",
       "    </tr>\n",
       "    <tr>\n",
       "      <th>4</th>\n",
       "      <td>Gx1IhUJPwgTVQcJmw1kD0A</td>\n",
       "      <td>sushi-kingdom-greenville-2</td>\n",
       "      <td>Sushi Kingdom</td>\n",
       "      <td>https://s3-media4.fl.yelpcdn.com/bphoto/5zeS32...</td>\n",
       "      <td>False</td>\n",
       "      <td>https://www.yelp.com/biz/sushi-kingdom-greenvi...</td>\n",
       "      <td>78</td>\n",
       "      <td>[{'alias': 'sushi', 'title': 'Sushi Bars'}, {'...</td>\n",
       "      <td>4.0</td>\n",
       "      <td>{'latitude': 34.83118194997925, 'longitude': -...</td>\n",
       "      <td>[pickup, delivery]</td>\n",
       "      <td>{'address1': '1117 Woodruff Rd', 'address2': '...</td>\n",
       "      <td>+18642438313</td>\n",
       "      <td>(864) 243-8313</td>\n",
       "      <td>5189.593817</td>\n",
       "      <td>NaN</td>\n",
       "    </tr>\n",
       "  </tbody>\n",
       "</table>\n",
       "</div>"
      ],
      "text/plain": [
       "                       id                                      alias  \\\n",
       "0  RGRk1ioORwm_FIX8PM732Q                      konnichiwa-greenville   \n",
       "1  zG_XOAFi9Y560WJ1RvghBw  sushi-masa-japanese-restaurant-greenville   \n",
       "2  babpQQHQSGjVxS1Li7Q2lA           otto-izakaya-downtown-greenville   \n",
       "3  7cJxOV-ANX1qLThK3yV96w                  otto-izakaya-greenville-4   \n",
       "4  Gx1IhUJPwgTVQcJmw1kD0A                 sushi-kingdom-greenville-2   \n",
       "\n",
       "                             name  \\\n",
       "0                      Konnichiwa   \n",
       "1  Sushi-Masa Japanese Restaurant   \n",
       "2         Otto Izakaya - Downtown   \n",
       "3                    Otto Izakaya   \n",
       "4                   Sushi Kingdom   \n",
       "\n",
       "                                           image_url  is_closed  \\\n",
       "0  https://s3-media3.fl.yelpcdn.com/bphoto/p47H0_...      False   \n",
       "1  https://s3-media1.fl.yelpcdn.com/bphoto/zsRavZ...      False   \n",
       "2  https://s3-media2.fl.yelpcdn.com/bphoto/CQ7zdN...      False   \n",
       "3  https://s3-media1.fl.yelpcdn.com/bphoto/TdPhFy...      False   \n",
       "4  https://s3-media4.fl.yelpcdn.com/bphoto/5zeS32...      False   \n",
       "\n",
       "                                                 url  review_count  \\\n",
       "0  https://www.yelp.com/biz/konnichiwa-greenville...            62   \n",
       "1  https://www.yelp.com/biz/sushi-masa-japanese-r...           160   \n",
       "2  https://www.yelp.com/biz/otto-izakaya-downtown...           180   \n",
       "3  https://www.yelp.com/biz/otto-izakaya-greenvil...           441   \n",
       "4  https://www.yelp.com/biz/sushi-kingdom-greenvi...            78   \n",
       "\n",
       "                                          categories  rating  \\\n",
       "0  [{'alias': 'sushi', 'title': 'Sushi Bars'}, {'...     4.0   \n",
       "1        [{'alias': 'sushi', 'title': 'Sushi Bars'}]     4.5   \n",
       "2  [{'alias': 'izakaya', 'title': 'Izakaya'}, {'a...     3.5   \n",
       "3  [{'alias': 'japanese', 'title': 'Japanese'}, {...     4.0   \n",
       "4  [{'alias': 'sushi', 'title': 'Sushi Bars'}, {'...     4.0   \n",
       "\n",
       "                                         coordinates  \\\n",
       "0  {'latitude': 34.845952342825115, 'longitude': ...   \n",
       "1  {'latitude': 34.8512725830078, 'longitude': -8...   \n",
       "2       {'latitude': 34.84428, 'longitude': -82.406}   \n",
       "3  {'latitude': 34.8228218820722, 'longitude': -8...   \n",
       "4  {'latitude': 34.83118194997925, 'longitude': -...   \n",
       "\n",
       "                         transactions  \\\n",
       "0                                  []   \n",
       "1                          [delivery]   \n",
       "2  [restaurant_reservation, delivery]   \n",
       "3                          [delivery]   \n",
       "4                  [pickup, delivery]   \n",
       "\n",
       "                                            location         phone  \\\n",
       "0  {'address1': '101 Falls Park Dr', 'address2': ...  +18642524436   \n",
       "1  {'address1': '8590 Pelham Rd', 'address2': 'St...  +18642882227   \n",
       "2  {'address1': '802 S Main St', 'address2': '', ...  +18645685880   \n",
       "3  {'address1': '15 Market Point Dr', 'address2':...  +18645688009   \n",
       "4  {'address1': '1117 Woodruff Rd', 'address2': '...  +18642438313   \n",
       "\n",
       "    display_phone      distance price  \n",
       "0  (864) 252-4436   4184.255183   NaN  \n",
       "1  (864) 288-2227  11481.830881    $$  \n",
       "2  (864) 568-5880   4427.139837    $$  \n",
       "3  (864) 568-8009   5933.485357    $$  \n",
       "4  (864) 243-8313   5189.593817   NaN  "
      ]
     },
     "metadata": {},
     "output_type": "display_data"
    },
    {
     "data": {
      "text/html": [
       "<div>\n",
       "<style scoped>\n",
       "    .dataframe tbody tr th:only-of-type {\n",
       "        vertical-align: middle;\n",
       "    }\n",
       "\n",
       "    .dataframe tbody tr th {\n",
       "        vertical-align: top;\n",
       "    }\n",
       "\n",
       "    .dataframe thead th {\n",
       "        text-align: right;\n",
       "    }\n",
       "</style>\n",
       "<table border=\"1\" class=\"dataframe\">\n",
       "  <thead>\n",
       "    <tr style=\"text-align: right;\">\n",
       "      <th></th>\n",
       "      <th>id</th>\n",
       "      <th>alias</th>\n",
       "      <th>name</th>\n",
       "      <th>image_url</th>\n",
       "      <th>is_closed</th>\n",
       "      <th>url</th>\n",
       "      <th>review_count</th>\n",
       "      <th>categories</th>\n",
       "      <th>rating</th>\n",
       "      <th>coordinates</th>\n",
       "      <th>transactions</th>\n",
       "      <th>location</th>\n",
       "      <th>phone</th>\n",
       "      <th>display_phone</th>\n",
       "      <th>distance</th>\n",
       "      <th>price</th>\n",
       "    </tr>\n",
       "  </thead>\n",
       "  <tbody>\n",
       "    <tr>\n",
       "      <th>103</th>\n",
       "      <td>xb9QSdbk63Ani2-S5MrIHQ</td>\n",
       "      <td>harris-teeter-greenville-6</td>\n",
       "      <td>Harris Teeter</td>\n",
       "      <td>https://s3-media3.fl.yelpcdn.com/bphoto/ZelRSg...</td>\n",
       "      <td>False</td>\n",
       "      <td>https://www.yelp.com/biz/harris-teeter-greenvi...</td>\n",
       "      <td>27</td>\n",
       "      <td>[{'alias': 'grocery', 'title': 'Grocery'}, {'a...</td>\n",
       "      <td>3.5</td>\n",
       "      <td>{'latitude': 34.8279736, 'longitude': -82.3987...</td>\n",
       "      <td>[]</td>\n",
       "      <td>{'address1': '1720 Augusta St', 'address2': ''...</td>\n",
       "      <td>+18649778041</td>\n",
       "      <td>(864) 977-8041</td>\n",
       "      <td>4335.688854</td>\n",
       "      <td>$$</td>\n",
       "    </tr>\n",
       "    <tr>\n",
       "      <th>104</th>\n",
       "      <td>Dz1TrhAHtAiCE8ySrQV4vA</td>\n",
       "      <td>publix-super-markets-greenville-2</td>\n",
       "      <td>Publix Super Markets</td>\n",
       "      <td>https://s3-media3.fl.yelpcdn.com/bphoto/GQkkow...</td>\n",
       "      <td>False</td>\n",
       "      <td>https://www.yelp.com/biz/publix-super-markets-...</td>\n",
       "      <td>22</td>\n",
       "      <td>[{'alias': 'grocery', 'title': 'Grocery'}]</td>\n",
       "      <td>3.5</td>\n",
       "      <td>{'latitude': 34.86810664795167, 'longitude': -...</td>\n",
       "      <td>[]</td>\n",
       "      <td>{'address1': '215 Pelham Rd', 'address2': '', ...</td>\n",
       "      <td>+18643708210</td>\n",
       "      <td>(864) 370-8210</td>\n",
       "      <td>2477.641189</td>\n",
       "      <td>$$</td>\n",
       "    </tr>\n",
       "    <tr>\n",
       "      <th>105</th>\n",
       "      <td>xQZIvcjkH2R14yaHr2qQYQ</td>\n",
       "      <td>the-cheesecake-factory-greenville-2</td>\n",
       "      <td>The Cheesecake Factory</td>\n",
       "      <td>https://s3-media4.fl.yelpcdn.com/bphoto/3JnqQd...</td>\n",
       "      <td>False</td>\n",
       "      <td>https://www.yelp.com/biz/the-cheesecake-factor...</td>\n",
       "      <td>462</td>\n",
       "      <td>[{'alias': 'desserts', 'title': 'Desserts'}, {...</td>\n",
       "      <td>3.0</td>\n",
       "      <td>{'latitude': 34.8499166, 'longitude': -82.3335...</td>\n",
       "      <td>[delivery]</td>\n",
       "      <td>{'address1': '700 Haywood Mall', 'address2': '...</td>\n",
       "      <td>+18642884444</td>\n",
       "      <td>(864) 288-4444</td>\n",
       "      <td>2209.333296</td>\n",
       "      <td>$$</td>\n",
       "    </tr>\n",
       "    <tr>\n",
       "      <th>106</th>\n",
       "      <td>zTTrMt6nvB_bw0j3RUEsLA</td>\n",
       "      <td>new-china-greer</td>\n",
       "      <td>New China</td>\n",
       "      <td>https://s3-media2.fl.yelpcdn.com/bphoto/IGpt7F...</td>\n",
       "      <td>False</td>\n",
       "      <td>https://www.yelp.com/biz/new-china-greer?adjus...</td>\n",
       "      <td>17</td>\n",
       "      <td>[{'alias': 'chinese', 'title': 'Chinese'}]</td>\n",
       "      <td>2.5</td>\n",
       "      <td>{'latitude': 34.9476509, 'longitude': -82.2240...</td>\n",
       "      <td>[delivery]</td>\n",
       "      <td>{'address1': '614 N Main St', 'address2': '', ...</td>\n",
       "      <td>+18648778885</td>\n",
       "      <td>(864) 877-8885</td>\n",
       "      <td>16504.999220</td>\n",
       "      <td>$</td>\n",
       "    </tr>\n",
       "    <tr>\n",
       "      <th>107</th>\n",
       "      <td>_BLlWxSpx1mRGW9eFutYdQ</td>\n",
       "      <td>dairy-queen-grill-and-chill-mauldin-2</td>\n",
       "      <td>Dairy Queen Grill &amp; Chill</td>\n",
       "      <td>https://s3-media1.fl.yelpcdn.com/bphoto/SMirq1...</td>\n",
       "      <td>False</td>\n",
       "      <td>https://www.yelp.com/biz/dairy-queen-grill-and...</td>\n",
       "      <td>22</td>\n",
       "      <td>[{'alias': 'hotdogs', 'title': 'Fast Food'}, {...</td>\n",
       "      <td>3.0</td>\n",
       "      <td>{'latitude': 34.780454197801, 'longitude': -82...</td>\n",
       "      <td>[pickup, delivery]</td>\n",
       "      <td>{'address1': '112 N Main St', 'address2': None...</td>\n",
       "      <td>+18643739896</td>\n",
       "      <td>(864) 373-9896</td>\n",
       "      <td>8623.432240</td>\n",
       "      <td>$</td>\n",
       "    </tr>\n",
       "  </tbody>\n",
       "</table>\n",
       "</div>"
      ],
      "text/plain": [
       "                         id                                  alias  \\\n",
       "103  xb9QSdbk63Ani2-S5MrIHQ             harris-teeter-greenville-6   \n",
       "104  Dz1TrhAHtAiCE8ySrQV4vA      publix-super-markets-greenville-2   \n",
       "105  xQZIvcjkH2R14yaHr2qQYQ    the-cheesecake-factory-greenville-2   \n",
       "106  zTTrMt6nvB_bw0j3RUEsLA                        new-china-greer   \n",
       "107  _BLlWxSpx1mRGW9eFutYdQ  dairy-queen-grill-and-chill-mauldin-2   \n",
       "\n",
       "                          name  \\\n",
       "103              Harris Teeter   \n",
       "104       Publix Super Markets   \n",
       "105     The Cheesecake Factory   \n",
       "106                  New China   \n",
       "107  Dairy Queen Grill & Chill   \n",
       "\n",
       "                                             image_url  is_closed  \\\n",
       "103  https://s3-media3.fl.yelpcdn.com/bphoto/ZelRSg...      False   \n",
       "104  https://s3-media3.fl.yelpcdn.com/bphoto/GQkkow...      False   \n",
       "105  https://s3-media4.fl.yelpcdn.com/bphoto/3JnqQd...      False   \n",
       "106  https://s3-media2.fl.yelpcdn.com/bphoto/IGpt7F...      False   \n",
       "107  https://s3-media1.fl.yelpcdn.com/bphoto/SMirq1...      False   \n",
       "\n",
       "                                                   url  review_count  \\\n",
       "103  https://www.yelp.com/biz/harris-teeter-greenvi...            27   \n",
       "104  https://www.yelp.com/biz/publix-super-markets-...            22   \n",
       "105  https://www.yelp.com/biz/the-cheesecake-factor...           462   \n",
       "106  https://www.yelp.com/biz/new-china-greer?adjus...            17   \n",
       "107  https://www.yelp.com/biz/dairy-queen-grill-and...            22   \n",
       "\n",
       "                                            categories  rating  \\\n",
       "103  [{'alias': 'grocery', 'title': 'Grocery'}, {'a...     3.5   \n",
       "104         [{'alias': 'grocery', 'title': 'Grocery'}]     3.5   \n",
       "105  [{'alias': 'desserts', 'title': 'Desserts'}, {...     3.0   \n",
       "106         [{'alias': 'chinese', 'title': 'Chinese'}]     2.5   \n",
       "107  [{'alias': 'hotdogs', 'title': 'Fast Food'}, {...     3.0   \n",
       "\n",
       "                                           coordinates        transactions  \\\n",
       "103  {'latitude': 34.8279736, 'longitude': -82.3987...                  []   \n",
       "104  {'latitude': 34.86810664795167, 'longitude': -...                  []   \n",
       "105  {'latitude': 34.8499166, 'longitude': -82.3335...          [delivery]   \n",
       "106  {'latitude': 34.9476509, 'longitude': -82.2240...          [delivery]   \n",
       "107  {'latitude': 34.780454197801, 'longitude': -82...  [pickup, delivery]   \n",
       "\n",
       "                                              location         phone  \\\n",
       "103  {'address1': '1720 Augusta St', 'address2': ''...  +18649778041   \n",
       "104  {'address1': '215 Pelham Rd', 'address2': '', ...  +18643708210   \n",
       "105  {'address1': '700 Haywood Mall', 'address2': '...  +18642884444   \n",
       "106  {'address1': '614 N Main St', 'address2': '', ...  +18648778885   \n",
       "107  {'address1': '112 N Main St', 'address2': None...  +18643739896   \n",
       "\n",
       "      display_phone      distance price  \n",
       "103  (864) 977-8041   4335.688854    $$  \n",
       "104  (864) 370-8210   2477.641189    $$  \n",
       "105  (864) 288-4444   2209.333296    $$  \n",
       "106  (864) 877-8885  16504.999220     $  \n",
       "107  (864) 373-9896   8623.432240     $  "
      ]
     },
     "metadata": {},
     "output_type": "display_data"
    }
   ],
   "source": [
    "# load final results\n",
    "final_df = pd.read_json(JSON_FILE)\n",
    "display(final_df.head(), final_df.tail())\n"
   ]
  },
  {
   "cell_type": "code",
   "execution_count": 29,
   "id": "43ccd235-01a3-4b85-8bd4-09394fdbc451",
   "metadata": {},
   "outputs": [
    {
     "data": {
      "text/plain": [
       "0"
      ]
     },
     "execution_count": 29,
     "metadata": {},
     "output_type": "execute_result"
    }
   ],
   "source": [
    "# check for duplicate ID's \n",
    "final_df.duplicated(subset='id').sum()\n",
    "\n"
   ]
  },
  {
   "cell_type": "code",
   "execution_count": 30,
   "id": "9a02f5b7-a005-4904-9273-953753efbdcf",
   "metadata": {},
   "outputs": [
    {
     "data": {
      "text/plain": [
       "0"
      ]
     },
     "execution_count": 30,
     "metadata": {},
     "output_type": "execute_result"
    }
   ],
   "source": [
    "## Drop duplicate ids and confirm there are no more duplicates\n",
    "final_df = final_df.drop_duplicates(subset='id')\n",
    "final_df.duplicated(subset='id').sum()\n"
   ]
  },
  {
   "cell_type": "code",
   "execution_count": 31,
   "id": "5af603af-3d15-42c9-8737-7eee6d93efb7",
   "metadata": {},
   "outputs": [],
   "source": [
    "# save the final results to a compressed csv\n",
    "final_df.to_csv('Data/final_results_Greenville_SC_sushi.csv.gz', compression='gzip',index=False)\n"
   ]
  }
 ],
 "metadata": {
  "kernelspec": {
   "display_name": "Python 3 (ipykernel)",
   "language": "python",
   "name": "python3"
  },
  "language_info": {
   "codemirror_mode": {
    "name": "ipython",
    "version": 3
   },
   "file_extension": ".py",
   "mimetype": "text/x-python",
   "name": "python",
   "nbconvert_exporter": "python",
   "pygments_lexer": "ipython3",
   "version": "3.10.10"
  }
 },
 "nbformat": 4,
 "nbformat_minor": 5
}
